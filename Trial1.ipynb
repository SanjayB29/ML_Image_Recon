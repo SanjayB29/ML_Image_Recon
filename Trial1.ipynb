{
 "cells": [
  {
   "cell_type": "code",
   "execution_count": 1,
   "id": "0f0b3d0c-2562-4c83-a4bb-e05c9a657e1a",
   "metadata": {},
   "outputs": [
    {
     "name": "stdout",
     "output_type": "stream",
     "text": [
      "Image storage directory set to: D:/Amrita/Sem_5/Machine Learning/ProjectIR\n",
      "Photo captured and saved as D:/Amrita/Sem_5/Machine Learning/ProjectIR\\a.jpg\n",
      "Photo captured and saved as D:/Amrita/Sem_5/Machine Learning/ProjectIR\\b.jpg\n"
     ]
    }
   ],
   "source": [
    "import cv2\n",
    "import tkinter as tk\n",
    "from tkinter.simpledialog import askstring\n",
    "from tkinter import filedialog\n",
    "from PIL import Image, ImageTk\n",
    "import os\n",
    "\n",
    "class WebcamApp:\n",
    "    def __init__(self, window, window_title):\n",
    "        self.window = window\n",
    "        self.window.title(window_title)\n",
    "\n",
    "        self.video_capture = cv2.VideoCapture(0)\n",
    "        self.current_frame = None\n",
    "        self.image_path = \"\"\n",
    "\n",
    "        self.video_frame = tk.Label(self.window)\n",
    "        self.video_frame.grid(row=0, column=0, columnspan=2)\n",
    "\n",
    "        self.capture_button = tk.Button(self.window, text=\"Capture\", width=10, command=self.capture_image)\n",
    "        self.capture_button.grid(row=1, column=0, padx=10, pady=5)\n",
    "\n",
    "        self.browse_button = tk.Button(self.window, text=\"Browse\", width=10, command=self.browse_directory)\n",
    "        self.browse_button.grid(row=1, column=1, padx=10, pady=5)\n",
    "\n",
    "        self.exit_button = tk.Button(self.window, text=\"Exit\", width=10, command=self.exit_app)\n",
    "        self.exit_button.grid(row=2, column=0, columnspan=2, pady=5)\n",
    "\n",
    "        self.update()\n",
    "        self.window.protocol(\"WM_DELETE_WINDOW\", self.exit_app)  # Bind close button to exit_app\n",
    "        self.window.mainloop()\n",
    "\n",
    "    def update(self):\n",
    "        ret, frame = self.video_capture.read()\n",
    "        if ret:\n",
    "            self.current_frame = cv2.cvtColor(frame, cv2.COLOR_BGR2RGB)\n",
    "            self.photo = ImageTk.PhotoImage(image=Image.fromarray(self.current_frame))\n",
    "            self.video_frame.config(image=self.photo)\n",
    "        self.window.after(10, self.update)\n",
    "\n",
    "    def capture_image(self):\n",
    "        if self.current_frame is not None and self.image_path:\n",
    "            image_name = askstring(\"Image Name\", \"Enter a name for the image:\")\n",
    "            if image_name:\n",
    "                image_filename = os.path.join(self.image_path, f\"{image_name}.jpg\")\n",
    "                cv2.imwrite(image_filename, cv2.cvtColor(self.current_frame, cv2.COLOR_RGB2BGR))\n",
    "                print(f\"Photo captured and saved as {image_filename}\")\n",
    "\n",
    "    def browse_directory(self):\n",
    "        self.image_path = filedialog.askdirectory()\n",
    "        print(f\"Image storage directory set to: {self.image_path}\")\n",
    "\n",
    "    def exit_app(self):\n",
    "        self.video_capture.release()\n",
    "        self.window.destroy()\n",
    "\n",
    "if __name__ == \"__main__\":\n",
    "    root = tk.Tk()\n",
    "    app = WebcamApp(root, \"Webcam Capture App\")"
   ]
  },
  {
   "cell_type": "code",
   "execution_count": null,
   "id": "82a49d71-eebd-4bca-923b-324b5f6133ce",
   "metadata": {},
   "outputs": [],
   "source": []
  }
 ],
 "metadata": {
  "kernelspec": {
   "display_name": "Python 3 (ipykernel)",
   "language": "python",
   "name": "python3"
  },
  "language_info": {
   "codemirror_mode": {
    "name": "ipython",
    "version": 3
   },
   "file_extension": ".py",
   "mimetype": "text/x-python",
   "name": "python",
   "nbconvert_exporter": "python",
   "pygments_lexer": "ipython3",
   "version": "3.11.4"
  }
 },
 "nbformat": 4,
 "nbformat_minor": 5
}
